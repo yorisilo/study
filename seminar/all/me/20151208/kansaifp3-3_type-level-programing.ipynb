{
 "cells": [
  {
   "cell_type": "markdown",
   "metadata": {},
   "source": [
    "# はじめる前に"
   ]
  },
  {
   "cell_type": "markdown",
   "metadata": {},
   "source": [
    "19\n",
    "\n",
    "## 型?"
   ]
  },
  {
   "cell_type": "code",
   "execution_count": null,
   "metadata": {
    "collapsed": false
   },
   "outputs": [],
   "source": [
    ":type (!!)"
   ]
  },
  {
   "cell_type": "code",
   "execution_count": null,
   "metadata": {
    "collapsed": false
   },
   "outputs": [],
   "source": [
    ":type (+)"
   ]
  },
  {
   "cell_type": "markdown",
   "metadata": {},
   "source": [
    "20\n",
    "\n",
    "## kind?"
   ]
  },
  {
   "cell_type": "code",
   "execution_count": null,
   "metadata": {
    "collapsed": false
   },
   "outputs": [],
   "source": [
    ":kind Int"
   ]
  },
  {
   "cell_type": "code",
   "execution_count": null,
   "metadata": {
    "collapsed": false
   },
   "outputs": [],
   "source": [
    ":kind (->)"
   ]
  },
  {
   "cell_type": "code",
   "execution_count": null,
   "metadata": {
    "collapsed": false
   },
   "outputs": [],
   "source": [
    ":kind Int -> Int"
   ]
  },
  {
   "cell_type": "code",
   "execution_count": null,
   "metadata": {
    "collapsed": false
   },
   "outputs": [],
   "source": [
    ":kind Maybe"
   ]
  },
  {
   "cell_type": "code",
   "execution_count": null,
   "metadata": {
    "collapsed": false
   },
   "outputs": [],
   "source": [
    ":kind Maybe Int"
   ]
  },
  {
   "cell_type": "code",
   "execution_count": null,
   "metadata": {
    "collapsed": false
   },
   "outputs": [],
   "source": [
    ":kind Num"
   ]
  },
  {
   "cell_type": "markdown",
   "metadata": {},
   "source": [
    "21\n",
    "\n",
    "## kindが違うとエラー"
   ]
  },
  {
   "cell_type": "code",
   "execution_count": null,
   "metadata": {
    "collapsed": false
   },
   "outputs": [],
   "source": [
    ":kind Maybe Either"
   ]
  },
  {
   "cell_type": "markdown",
   "metadata": {},
   "source": [
    "22\n",
    "# part1. 型から値へ"
   ]
  },
  {
   "cell_type": "markdown",
   "metadata": {},
   "source": [
    "23\n",
    "\n",
    "## Phantom type"
   ]
  },
  {
   "cell_type": "code",
   "execution_count": null,
   "metadata": {
    "collapsed": true
   },
   "outputs": [],
   "source": [
    "data Foo a = Foo { getFoo :: Int }"
   ]
  },
  {
   "cell_type": "markdown",
   "metadata": {},
   "source": [
    "24\n",
    "\n",
    "## Boolean型の情報を保持してみる"
   ]
  },
  {
   "cell_type": "code",
   "execution_count": null,
   "metadata": {
    "collapsed": true
   },
   "outputs": [],
   "source": [
    "data On\n",
    "data Off"
   ]
  },
  {
   "cell_type": "code",
   "execution_count": null,
   "metadata": {
    "collapsed": false
   },
   "outputs": [],
   "source": [
    "class KnownFlag a where\n",
    "    flagVal :: Foo a -> Bool\n",
    "\n",
    "instance KnownFlag On where\n",
    "    flagVal _ = True\n",
    "\n",
    "instance KnownFlag Off where\n",
    "    flagVal _ = False"
   ]
  },
  {
   "cell_type": "code",
   "execution_count": null,
   "metadata": {
    "collapsed": true
   },
   "outputs": [],
   "source": [
    "testFoo :: KnownFlag a => Foo a -> String\n",
    "testFoo foo =\n",
    "    (if flagVal foo then \"On:\" else \"Off:\") ++\n",
    "    show (getFoo foo)"
   ]
  },
  {
   "cell_type": "markdown",
   "metadata": {},
   "source": [
    "25\n",
    "\n",
    "## つかってみよう"
   ]
  },
  {
   "cell_type": "code",
   "execution_count": null,
   "metadata": {
    "collapsed": false
   },
   "outputs": [],
   "source": [
    "testFoo (Foo 12 :: Foo On)"
   ]
  },
  {
   "cell_type": "code",
   "execution_count": null,
   "metadata": {
    "collapsed": false
   },
   "outputs": [],
   "source": [
    "testFoo (Foo 12 :: Foo Off)"
   ]
  },
  {
   "cell_type": "markdown",
   "metadata": {},
   "source": [
    "26\n",
    "\n",
    "## これでok?"
   ]
  },
  {
   "cell_type": "code",
   "execution_count": null,
   "metadata": {
    "collapsed": false
   },
   "outputs": [],
   "source": [
    "class KnownFlag a where\n",
    "    flagVal ::  a -> Bool -- Foo aをaに\n",
    "\n",
    "instance KnownFlag On where\n",
    "    flagVal _ = True\n",
    "\n",
    "instance KnownFlag Off where\n",
    "    flagVal _ = False"
   ]
  },
  {
   "cell_type": "code",
   "execution_count": null,
   "metadata": {
    "collapsed": false
   },
   "outputs": [],
   "source": [
    "testFoo :: KnownFlag a => Foo a -> String\n",
    "testFoo foo =\n",
    "    (if flagVal (undefined :: a) then \"On:\" else \"Off:\") ++\n",
    "    show (getFoo foo)"
   ]
  },
  {
   "cell_type": "markdown",
   "metadata": {},
   "source": [
    "27\n",
    "\n",
    "## ScopedTypeVariables"
   ]
  },
  {
   "cell_type": "code",
   "execution_count": null,
   "metadata": {
    "collapsed": true
   },
   "outputs": [],
   "source": [
    ":set -XScopedTypeVariables"
   ]
  },
  {
   "cell_type": "code",
   "execution_count": null,
   "metadata": {
    "collapsed": false,
    "scrolled": true
   },
   "outputs": [],
   "source": [
    "testFoo :: forall a. KnownFlag a => Foo a -> String\n",
    "testFoo foo =\n",
    "    (if flagVal (undefined :: a) then \"On:\" else \"Off:\") ++\n",
    "    show (getFoo foo)"
   ]
  },
  {
   "cell_type": "markdown",
   "metadata": {},
   "source": [
    "28\n",
    "\n",
    "## これでok?"
   ]
  },
  {
   "cell_type": "code",
   "execution_count": null,
   "metadata": {
    "collapsed": false
   },
   "outputs": [],
   "source": [
    "fooOk :: Foo Bool\n",
    "fooOk = Foo 3\n",
    "\n",
    "testFoo fooOk"
   ]
  },
  {
   "cell_type": "markdown",
   "metadata": {},
   "source": [
    "29\n",
    "\n",
    "## DataKinds"
   ]
  },
  {
   "cell_type": "code",
   "execution_count": null,
   "metadata": {
    "collapsed": true
   },
   "outputs": [],
   "source": [
    ":set -XDataKinds"
   ]
  },
  {
   "cell_type": "code",
   "execution_count": null,
   "metadata": {
    "collapsed": false
   },
   "outputs": [],
   "source": [
    ":kind 'True"
   ]
  },
  {
   "cell_type": "code",
   "execution_count": null,
   "metadata": {
    "collapsed": false
   },
   "outputs": [],
   "source": [
    ":kind 'Nothing"
   ]
  },
  {
   "cell_type": "code",
   "execution_count": null,
   "metadata": {
    "collapsed": false
   },
   "outputs": [],
   "source": [
    ":kind 'Just 'True"
   ]
  },
  {
   "cell_type": "markdown",
   "metadata": {},
   "source": [
    "30\n",
    "\n",
    "## PolyKinds"
   ]
  },
  {
   "cell_type": "code",
   "execution_count": null,
   "metadata": {
    "collapsed": false
   },
   "outputs": [],
   "source": [
    ":module Data.Proxy\n",
    ":kind Proxy"
   ]
  },
  {
   "cell_type": "code",
   "execution_count": null,
   "metadata": {
    "collapsed": false
   },
   "outputs": [],
   "source": [
    "Proxy :: Proxy Int"
   ]
  },
  {
   "cell_type": "code",
   "execution_count": null,
   "metadata": {
    "collapsed": false
   },
   "outputs": [],
   "source": [
    "Proxy :: Proxy 'True"
   ]
  },
  {
   "cell_type": "code",
   "execution_count": null,
   "metadata": {
    "collapsed": false
   },
   "outputs": [],
   "source": [
    "Proxy :: Proxy Maybe"
   ]
  },
  {
   "cell_type": "markdown",
   "metadata": {
    "collapsed": true
   },
   "source": [
    "31\n",
    "\n",
    "## 完成"
   ]
  },
  {
   "cell_type": "code",
   "execution_count": null,
   "metadata": {
    "collapsed": true
   },
   "outputs": [],
   "source": [
    ":set -XKindSignatures"
   ]
  },
  {
   "cell_type": "code",
   "execution_count": null,
   "metadata": {
    "collapsed": false
   },
   "outputs": [],
   "source": [
    "data Foo (a :: Bool) = Foo { getFoo :: Int }"
   ]
  },
  {
   "cell_type": "code",
   "execution_count": null,
   "metadata": {
    "collapsed": true
   },
   "outputs": [],
   "source": [
    "class KnownBool (a :: Bool) where\n",
    "    boolVal :: proxy a -> Bool\n",
    "\n",
    "instance KnownBool 'True where\n",
    "    boolVal _ = True\n",
    "\n",
    "instance KnownBool 'False where\n",
    "    boolVal _ = False"
   ]
  },
  {
   "cell_type": "code",
   "execution_count": null,
   "metadata": {
    "collapsed": false
   },
   "outputs": [],
   "source": [
    "testFoo :: forall a. KnownBool a => Foo a -> String\n",
    "testFoo foo =\n",
    "    (if boolVal (Proxy :: Proxy a) then \"On:\" else \"Off:\") ++\n",
    "    show (getFoo foo)"
   ]
  },
  {
   "cell_type": "code",
   "execution_count": null,
   "metadata": {
    "collapsed": true
   },
   "outputs": [],
   "source": [
    "testFoo' :: KnownBool a => Foo a -> String\n",
    "testFoo' foo = (if boolVal foo then \"On:\" else \"Off:\") ++ show (getFoo foo)"
   ]
  },
  {
   "cell_type": "markdown",
   "metadata": {},
   "source": [
    "32\n",
    "\n",
    "## 型レベルリテラル"
   ]
  },
  {
   "cell_type": "code",
   "execution_count": null,
   "metadata": {
    "collapsed": true
   },
   "outputs": [],
   "source": [
    ":module GHC.TypeLits Data.Proxy"
   ]
  },
  {
   "cell_type": "code",
   "execution_count": null,
   "metadata": {
    "collapsed": false
   },
   "outputs": [],
   "source": [
    ":kind 3"
   ]
  },
  {
   "cell_type": "code",
   "execution_count": null,
   "metadata": {
    "collapsed": false
   },
   "outputs": [],
   "source": [
    ":kind \"foo\""
   ]
  },
  {
   "cell_type": "code",
   "execution_count": null,
   "metadata": {
    "collapsed": true
   },
   "outputs": [],
   "source": [
    "typeLitTest :: (KnownNat n, KnownSymbol s) => proxyN n -> proxyS s -> [String]\n",
    "typeLitTest nat sym = replicate\n",
    "    (fromIntegral $ natVal nat)\n",
    "    (symbolVal sym)"
   ]
  },
  {
   "cell_type": "code",
   "execution_count": null,
   "metadata": {
    "collapsed": false
   },
   "outputs": [],
   "source": [
    "typeLitTest (Proxy :: Proxy 5) (Proxy :: Proxy \"foo\")"
   ]
  },
  {
   "cell_type": "markdown",
   "metadata": {},
   "source": [
    "33\n",
    "\n",
    "# part2. 型族"
   ]
  },
  {
   "cell_type": "markdown",
   "metadata": {},
   "source": [
    "34\n",
    "\n",
    "## 型族?"
   ]
  },
  {
   "cell_type": "code",
   "execution_count": null,
   "metadata": {
    "collapsed": false
   },
   "outputs": [],
   "source": [
    ":type 2 + (3 :: Int)"
   ]
  },
  {
   "cell_type": "code",
   "execution_count": null,
   "metadata": {
    "collapsed": false
   },
   "outputs": [],
   "source": [
    ":kind 2 + 3 -- iHaskellでは:kind!使えないっぽい?"
   ]
  },
  {
   "cell_type": "markdown",
   "metadata": {},
   "source": [
    "35\n",
    "\n",
    "## 長さ付きリスト"
   ]
  },
  {
   "cell_type": "markdown",
   "metadata": {},
   "source": [
    "36\n",
    "\n",
    "## スマートコンストラクタ?"
   ]
  },
  {
   "cell_type": "code",
   "execution_count": null,
   "metadata": {
    "collapsed": true
   },
   "outputs": [],
   "source": [
    "data Expr a\n",
    "    = I Int\n",
    "    | B Bool\n",
    "    | Add (Expr a) (Expr a)\n",
    "    | Eq  (Expr a) (Expr a)"
   ]
  },
  {
   "cell_type": "code",
   "execution_count": null,
   "metadata": {
    "collapsed": true
   },
   "outputs": [],
   "source": [
    "i :: Int -> Expr Int\n",
    "i = I"
   ]
  },
  {
   "cell_type": "code",
   "execution_count": null,
   "metadata": {
    "collapsed": false
   },
   "outputs": [],
   "source": [
    "eval :: Expr a -> a\n",
    "eval (I i) = i"
   ]
  },
  {
   "cell_type": "markdown",
   "metadata": {},
   "source": [
    "37\n",
    "\n",
    "## GADTs"
   ]
  },
  {
   "cell_type": "code",
   "execution_count": null,
   "metadata": {
    "collapsed": true
   },
   "outputs": [],
   "source": [
    ":set -XGADTs"
   ]
  },
  {
   "cell_type": "code",
   "execution_count": null,
   "metadata": {
    "collapsed": true
   },
   "outputs": [],
   "source": [
    "data Expr :: * -> * where\n",
    "    I   :: Int  -> Expr Int\n",
    "    B   :: Bool -> Expr Bool\n",
    "    Add :: Expr Int -> Expr Int -> Expr Int\n",
    "    Eq  :: Expr Int -> Expr Int -> Expr Bool"
   ]
  },
  {
   "cell_type": "code",
   "execution_count": null,
   "metadata": {
    "collapsed": true
   },
   "outputs": [],
   "source": [
    "eval :: Expr a -> a\n",
    "eval (I i) = i"
   ]
  },
  {
   "cell_type": "markdown",
   "metadata": {},
   "source": [
    "38\n",
    "\n",
    "## 型レベル自然数リテラルで"
   ]
  },
  {
   "cell_type": "code",
   "execution_count": null,
   "metadata": {
    "collapsed": false
   },
   "outputs": [],
   "source": [
    "data Vector :: Nat -> * -> * where\n",
    "    Nil  :: Vector 0 a\n",
    "    (:-) :: a -> Vector n a -> Vector (n + 1) a\n",
    "\n",
    "infixr 5 :- -- iHaskellでは効いてないっぽい……"
   ]
  },
  {
   "cell_type": "code",
   "execution_count": null,
   "metadata": {
    "collapsed": false
   },
   "outputs": [],
   "source": [
    ":t Nil"
   ]
  },
  {
   "cell_type": "code",
   "execution_count": null,
   "metadata": {
    "collapsed": false
   },
   "outputs": [],
   "source": [
    ":t (1 :: Int) :- Nil"
   ]
  },
  {
   "cell_type": "code",
   "execution_count": null,
   "metadata": {
    "collapsed": false
   },
   "outputs": [],
   "source": [
    ":t 2 :- ((1 :: Int) :- Nil)"
   ]
  },
  {
   "cell_type": "markdown",
   "metadata": {},
   "source": [
    "39\n",
    "\n",
    "## いけてない"
   ]
  },
  {
   "cell_type": "code",
   "execution_count": null,
   "metadata": {
    "collapsed": false
   },
   "outputs": [],
   "source": [
    "vtail :: Vector (n + 1) a -> Vector n a\n",
    "vtail (_ :- b) = b"
   ]
  },
  {
   "cell_type": "markdown",
   "metadata": {},
   "source": [
    "40\n",
    "\n",
    "## ならば定義を変える!"
   ]
  },
  {
   "cell_type": "code",
   "execution_count": null,
   "metadata": {
    "collapsed": false
   },
   "outputs": [],
   "source": [
    "data Vector :: Nat -> * -> * where\n",
    "    Nil  :: Vector 0 a\n",
    "    (:-) :: a -> Vector (n - 1) a -> Vector n a"
   ]
  },
  {
   "cell_type": "code",
   "execution_count": null,
   "metadata": {
    "collapsed": false
   },
   "outputs": [],
   "source": [
    ":type Nil"
   ]
  },
  {
   "cell_type": "code",
   "execution_count": null,
   "metadata": {
    "collapsed": false
   },
   "outputs": [],
   "source": [
    ":type (1::Int) :- Nil"
   ]
  },
  {
   "cell_type": "code",
   "execution_count": null,
   "metadata": {
    "collapsed": false
   },
   "outputs": [],
   "source": [
    ":type 2 :- ((1::Int) :- Nil)"
   ]
  },
  {
   "cell_type": "markdown",
   "metadata": {},
   "source": [
    "41\n",
    "\n",
    "## やっぱりダメ"
   ]
  },
  {
   "cell_type": "code",
   "execution_count": null,
   "metadata": {
    "collapsed": false
   },
   "outputs": [],
   "source": [
    "vtail :: Vector (n + 1) a -> Vector n a\n",
    "vtail (_ :- b) = b"
   ]
  },
  {
   "cell_type": "markdown",
   "metadata": {},
   "source": [
    "42\n",
    "\n",
    "## ペアノ数"
   ]
  },
  {
   "cell_type": "code",
   "execution_count": null,
   "metadata": {
    "collapsed": false
   },
   "outputs": [],
   "source": [
    "data Nat = Z | S Nat\n",
    "\n",
    "type N0 = 'Z\n",
    "type N1 = 'S 'Z\n",
    "type N2 = 'S N1\n",
    "type N3 = 'S N2"
   ]
  },
  {
   "cell_type": "markdown",
   "metadata": {},
   "source": [
    "43\n",
    "\n",
    "## ペアノ数で"
   ]
  },
  {
   "cell_type": "code",
   "execution_count": null,
   "metadata": {
    "collapsed": true
   },
   "outputs": [],
   "source": [
    ":set -XStandaloneDeriving"
   ]
  },
  {
   "cell_type": "code",
   "execution_count": null,
   "metadata": {
    "collapsed": false
   },
   "outputs": [],
   "source": [
    "data Vector :: Nat -> * -> * where\n",
    "    Nil  :: Vector 'Z a\n",
    "    (:-) :: a -> Vector n a -> Vector ('S n) a\n",
    "\n",
    "deriving instance Show a => Show (Vector n a)\n",
    "\n",
    "infixr 5 :-\n",
    "\n",
    "vtail :: Vector ('S n) a -> Vector n a\n",
    "vtail (_ :- b) = b"
   ]
  },
  {
   "cell_type": "code",
   "execution_count": null,
   "metadata": {
    "collapsed": false
   },
   "outputs": [],
   "source": [
    ":type vtail Nil"
   ]
  },
  {
   "cell_type": "code",
   "execution_count": null,
   "metadata": {
    "collapsed": false
   },
   "outputs": [],
   "source": [
    "vtail (1 :- (2 :- Nil))"
   ]
  },
  {
   "cell_type": "markdown",
   "metadata": {},
   "source": [
    "45\n",
    "\n",
    "## 型族を定義する"
   ]
  },
  {
   "cell_type": "code",
   "execution_count": null,
   "metadata": {
    "collapsed": true
   },
   "outputs": [],
   "source": [
    ":set -XTypeFamilies"
   ]
  },
  {
   "cell_type": "code",
   "execution_count": null,
   "metadata": {
    "collapsed": false
   },
   "outputs": [],
   "source": [
    "type family (a :: Nat) + (b :: Nat) :: Nat\n",
    "\n",
    "type instance 'Z   + b = b\n",
    "type instance 'S a + b = 'S (a + b)"
   ]
  },
  {
   "cell_type": "code",
   "execution_count": null,
   "metadata": {
    "collapsed": false
   },
   "outputs": [],
   "source": [
    "import Data.Word\n",
    "\n",
    "type family   Fraction a\n",
    "type instance Fraction Float  = Word32\n",
    "type instance Fraction Double = Word64\n",
    "type instance Fraction a      = Integer"
   ]
  },
  {
   "cell_type": "markdown",
   "metadata": {},
   "source": [
    "46\n",
    "\n",
    "## closedな型族"
   ]
  },
  {
   "cell_type": "code",
   "execution_count": null,
   "metadata": {
    "collapsed": false
   },
   "outputs": [],
   "source": [
    "type family a + b where\n",
    "  'Z   + b = b\n",
    "  'S a + b = 'S (a + b)"
   ]
  },
  {
   "cell_type": "code",
   "execution_count": null,
   "metadata": {
    "collapsed": true
   },
   "outputs": [],
   "source": [
    "import Data.Word\n",
    "\n",
    "type family Fraction a where\n",
    "    Fraction Float  = Word32\n",
    "    Fraction Double = Word64\n",
    "    Fraction a      = Integer"
   ]
  },
  {
   "cell_type": "markdown",
   "metadata": {},
   "source": [
    "47\n",
    "\n",
    "## (++)"
   ]
  },
  {
   "cell_type": "code",
   "execution_count": null,
   "metadata": {
    "collapsed": false,
    "scrolled": true
   },
   "outputs": [],
   "source": [
    "(+:+) :: Vector x a -> Vector y a -> Vector (x + y) a\n",
    "Nil       +:+ ys = ys\n",
    "(x :- xs) +:+ ys = x :- (xs +:+ ys)"
   ]
  },
  {
   "cell_type": "code",
   "execution_count": null,
   "metadata": {
    "collapsed": false
   },
   "outputs": [],
   "source": [
    "(5 :- (3 :- Nil)) +:+ (1 :- (2 :- Nil))"
   ]
  },
  {
   "cell_type": "markdown",
   "metadata": {},
   "source": [
    "48\n",
    "\n",
    "## reverse"
   ]
  },
  {
   "cell_type": "code",
   "execution_count": null,
   "metadata": {
    "collapsed": false
   },
   "outputs": [],
   "source": [
    "reverse :: Vector n a -> Vector n a\n",
    "reverse l = rev l Nil\n",
    "  where\n",
    "    rev :: Vector k a -> Vector l a -> Vector (k + l) a\n",
    "    rev Nil       a = a\n",
    "    rev (x :- xs) a = rev xs (x :- a)"
   ]
  },
  {
   "cell_type": "markdown",
   "metadata": {},
   "source": [
    "50\n",
    "\n",
    "# part3. 等しさ"
   ]
  },
  {
   "cell_type": "code",
   "execution_count": null,
   "metadata": {
    "collapsed": true
   },
   "outputs": [],
   "source": [
    ":module Data.Type.Equality"
   ]
  },
  {
   "cell_type": "code",
   "execution_count": null,
   "metadata": {
    "collapsed": false
   },
   "outputs": [],
   "source": [
    ":info Refl"
   ]
  },
  {
   "cell_type": "code",
   "execution_count": null,
   "metadata": {
    "collapsed": false
   },
   "outputs": [],
   "source": [
    ":type sym"
   ]
  },
  {
   "cell_type": "code",
   "execution_count": null,
   "metadata": {
    "collapsed": false
   },
   "outputs": [],
   "source": [
    ":type trans"
   ]
  },
  {
   "cell_type": "code",
   "execution_count": null,
   "metadata": {
    "collapsed": false
   },
   "outputs": [],
   "source": [
    ":type castWith"
   ]
  },
  {
   "cell_type": "code",
   "execution_count": null,
   "metadata": {
    "collapsed": false
   },
   "outputs": [],
   "source": [
    ":type apply"
   ]
  },
  {
   "cell_type": "code",
   "execution_count": null,
   "metadata": {
    "collapsed": false
   },
   "outputs": [],
   "source": [
    ":type inner"
   ]
  },
  {
   "cell_type": "code",
   "execution_count": null,
   "metadata": {
    "collapsed": false
   },
   "outputs": [],
   "source": [
    ":type outer"
   ]
  },
  {
   "cell_type": "markdown",
   "metadata": {},
   "source": [
    "53\n",
    "\n",
    "## :~:上での演算"
   ]
  },
  {
   "cell_type": "code",
   "execution_count": null,
   "metadata": {
    "collapsed": false
   },
   "outputs": [],
   "source": [
    "addL :: proxy k -> n :~: m -> k + n :~: k + m\n",
    "addL _ Refl = Refl"
   ]
  },
  {
   "cell_type": "markdown",
   "metadata": {},
   "source": [
    "54\n",
    "\n",
    "## 左単位元"
   ]
  },
  {
   "cell_type": "code",
   "execution_count": null,
   "metadata": {
    "collapsed": true
   },
   "outputs": [],
   "source": [
    "plusLZ :: proxy n -> 'Z + n :~: n\n",
    "plusLZ _ = Refl"
   ]
  },
  {
   "cell_type": "markdown",
   "metadata": {},
   "source": [
    "55\n",
    "\n",
    "## 右単位元?"
   ]
  },
  {
   "cell_type": "code",
   "execution_count": null,
   "metadata": {
    "collapsed": false
   },
   "outputs": [],
   "source": [
    "plusRZ :: proxy n -> n + 'Z :~: n\n",
    "plusRZ _ = Refl"
   ]
  },
  {
   "cell_type": "markdown",
   "metadata": {},
   "source": [
    "57\n",
    "\n",
    "## シングルトン"
   ]
  },
  {
   "cell_type": "code",
   "execution_count": null,
   "metadata": {
    "collapsed": true
   },
   "outputs": [],
   "source": [
    "data SNat :: Nat -> * where\n",
    "    SZ :: SNat 'Z\n",
    "    SS :: SNat n -> SNat ('S n)\n",
    "\n",
    "deriving instance Show (SNat n)"
   ]
  },
  {
   "cell_type": "code",
   "execution_count": null,
   "metadata": {
    "collapsed": true
   },
   "outputs": [],
   "source": [
    "(.+) :: SNat x -> SNat y -> SNat (x + y)\n",
    "SZ   .+ y = y\n",
    "SS x .+ y = SS (x .+ y)"
   ]
  },
  {
   "cell_type": "markdown",
   "metadata": {},
   "source": [
    "58\n",
    "\n",
    "## 右単位元"
   ]
  },
  {
   "cell_type": "code",
   "execution_count": null,
   "metadata": {
    "collapsed": true
   },
   "outputs": [],
   "source": [
    "plusRZ :: SNat n -> n + 'Z :~: n\n",
    "plusRZ  SZ    = Refl\n",
    "plusRZ (SS n) = apply Refl (plusRZ n)"
   ]
  },
  {
   "cell_type": "code",
   "execution_count": null,
   "metadata": {
    "collapsed": false
   },
   "outputs": [],
   "source": [
    "plusRZ SZ"
   ]
  },
  {
   "cell_type": "code",
   "execution_count": null,
   "metadata": {
    "collapsed": false
   },
   "outputs": [],
   "source": [
    "plusRZ (SS $ SS SZ)"
   ]
  },
  {
   "cell_type": "markdown",
   "metadata": {},
   "source": [
    "59\n",
    "\n",
    "## 結合則"
   ]
  },
  {
   "cell_type": "code",
   "execution_count": null,
   "metadata": {
    "collapsed": true
   },
   "outputs": [],
   "source": [
    "plusAssoc :: SNat x -> SNat y -> SNat z -> (x + y) + z :~: x + (y + z)\n",
    "plusAssoc  SZ    _ _ = Refl\n",
    "plusAssoc (SS x) y z = apply Refl (plusAssoc x y z)"
   ]
  },
  {
   "cell_type": "code",
   "execution_count": null,
   "metadata": {
    "collapsed": true
   },
   "outputs": [],
   "source": [
    "sAndPlusOne :: SNat n -> 'S n :~: n + N1\n",
    "sAndPlusOne  SZ    = Refl\n",
    "sAndPlusOne (SS n) = apply Refl (sAndPlusOne n)"
   ]
  },
  {
   "cell_type": "markdown",
   "metadata": {},
   "source": [
    "60\n",
    "\n",
    "## n + S m :~: S (n + m)"
   ]
  },
  {
   "cell_type": "code",
   "execution_count": null,
   "metadata": {
    "collapsed": true
   },
   "outputs": [],
   "source": [
    "data Hole = Hole -- type hole使えない……つらい……"
   ]
  },
  {
   "cell_type": "code",
   "execution_count": null,
   "metadata": {
    "collapsed": false
   },
   "outputs": [],
   "source": [
    "plusSR :: SNat n -> SNat m -> n + 'S m :~: 'S (n + m)\n",
    "plusSR n m =\n",
    "    Refl\n",
    "    `trans` Hole"
   ]
  },
  {
   "cell_type": "code",
   "execution_count": null,
   "metadata": {
    "collapsed": false
   },
   "outputs": [],
   "source": [
    "plusSR :: SNat n -> SNat m -> n + 'S m :~: 'S (n + m)\n",
    "plusSR n m =\n",
    "    Refl\n",
    "    `trans` addL n (sAndPlusOne m)\n",
    "    `trans` Hole"
   ]
  },
  {
   "cell_type": "code",
   "execution_count": null,
   "metadata": {
    "collapsed": false
   },
   "outputs": [],
   "source": [
    "plusSR :: SNat n -> SNat m -> n + 'S m :~: 'S (n + m)\n",
    "plusSR n m =\n",
    "    Refl\n",
    "    `trans` addL n (sAndPlusOne m)\n",
    "    `trans` sym (plusAssoc n m (SS SZ))\n",
    "    `trans` Hole"
   ]
  },
  {
   "cell_type": "code",
   "execution_count": null,
   "metadata": {
    "collapsed": false
   },
   "outputs": [],
   "source": [
    "plusSR :: SNat n -> SNat m -> n + 'S m :~: 'S (n + m)\n",
    "plusSR n m =\n",
    "    Refl\n",
    "    `trans` addL n (sAndPlusOne m)\n",
    "    `trans` sym (plusAssoc n m (SS SZ))\n",
    "    `trans` sym (sAndPlusOne (n .+ m))\n",
    "    `trans` Hole"
   ]
  },
  {
   "cell_type": "code",
   "execution_count": null,
   "metadata": {
    "collapsed": false
   },
   "outputs": [],
   "source": [
    "plusSR :: SNat n -> SNat m -> n + 'S m :~: 'S (n + m)\n",
    "plusSR n m =\n",
    "    addL n (sAndPlusOne m)\n",
    "    `trans` sym (plusAssoc n m (SS SZ))\n",
    "    `trans` sym (sAndPlusOne (n .+ m))"
   ]
  },
  {
   "cell_type": "code",
   "execution_count": null,
   "metadata": {
    "collapsed": false
   },
   "outputs": [],
   "source": [
    "plusSR (SS SZ) (SS $ SS SZ)"
   ]
  },
  {
   "cell_type": "markdown",
   "metadata": {},
   "source": [
    "61\n",
    "\n",
    "## reverseの証明(1)"
   ]
  },
  {
   "cell_type": "code",
   "execution_count": null,
   "metadata": {
    "collapsed": true
   },
   "outputs": [],
   "source": [
    "sLength :: Vector n a -> SNat n\n",
    "sLength  Nil      = SZ\n",
    "sLength (_ :- as) = SS (sLength as)"
   ]
  },
  {
   "cell_type": "code",
   "execution_count": null,
   "metadata": {
    "collapsed": false
   },
   "outputs": [],
   "source": [
    "sLength (1 :- (2 :- Nil))"
   ]
  },
  {
   "cell_type": "code",
   "execution_count": null,
   "metadata": {
    "collapsed": true
   },
   "outputs": [],
   "source": [
    "asVectorSize :: n :~: m -> Vector n a :~: Vector m a \n",
    "asVectorSize Refl = Refl"
   ]
  },
  {
   "cell_type": "code",
   "execution_count": null,
   "metadata": {
    "collapsed": false
   },
   "outputs": [],
   "source": [
    "vReverse :: Vector n a -> Vector n a\n",
    "vReverse l = castWith (asVectorSize $ plusRZ (sLength l)) $ rev l Nil\n",
    "  where\n",
    "    rev :: Vector k a -> Vector l a -> Vector (k + l) a\n",
    "    rev Nil       a = a\n",
    "    rev (x :- xs) a =\n",
    "        castWith (asVectorSize $ plusSR (sLength xs) (sLength a)) $\n",
    "        rev xs (x :- a)"
   ]
  },
  {
   "cell_type": "code",
   "execution_count": null,
   "metadata": {
    "collapsed": false
   },
   "outputs": [],
   "source": [
    "vReverse $ (1 :: Int) :- (2 :- Nil)"
   ]
  }
 ],
 "metadata": {
  "kernelspec": {
   "display_name": "Haskell",
   "language": "haskell",
   "name": "haskell"
  }
 },
 "nbformat": 4,
 "nbformat_minor": 0
}
